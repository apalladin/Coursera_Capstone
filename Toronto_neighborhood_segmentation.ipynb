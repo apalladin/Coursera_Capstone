{
 "cells": [
  {
   "cell_type": "code",
   "execution_count": 1,
   "metadata": {},
   "outputs": [],
   "source": [
    "#import necessary libraries \n",
    "import pandas as pd\n",
    "import numpy as np\n",
    "import requests\n",
    "from bs4 import BeautifulSoup"
   ]
  },
  {
   "cell_type": "code",
   "execution_count": 2,
   "metadata": {},
   "outputs": [],
   "source": [
    "# get the url text and parse it to extract the table colunn values\n",
    "url = 'https://en.wikipedia.org/wiki/List_of_postal_codes_of_Canada:_M'\n",
    "url = requests.get(url).text\n",
    "\n",
    "soup = BeautifulSoup(url, 'html.parser')\n",
    "table = soup.find('table', class_='sortable')\n",
    "\n",
    "#make a list of items to store the extraction results\n",
    "data = []\n",
    "for tr in table.find_all('tr'):\n",
    "    tds = tr.find_all('td')\n",
    "    if not tds:\n",
    "        continue\n",
    "    zip_code, borough, neighbuorhood = [td.text.strip() for td in tds[:3]]\n",
    "    data.append([zip_code, borough, neighbuorhood])\n"
   ]
  },
  {
   "cell_type": "code",
   "execution_count": 3,
   "metadata": {},
   "outputs": [],
   "source": [
    "# transfer the results into a df and assign col. labels, drop 'Not assigned' values of the Borough column\n",
    "\n",
    "df = pd.DataFrame(data, columns = ['Postcode', 'Borough', 'Neighbourhood'])\n",
    "df = df[(df['Borough'] != 'Not assigned') ].reset_index(drop = True)\n",
    "\n",
    "\n",
    "s = df.groupby(['Postcode','Borough'], \n",
    "               as_index = False)['Neighbourhood'].apply(lambda x: '{}'.format(', '.join(x))).replace(lambda x,y: \n",
    "                                                                                                    x.replace('Not assigned'),)\n",
    "df = s.to_frame().sort_values(by = 'Postcode').reset_index(drop=False)\n",
    "df.columns = ['Postcode', 'Borough', 'Neighbourhood']\n"
   ]
  },
  {
   "cell_type": "code",
   "execution_count": 4,
   "metadata": {},
   "outputs": [
    {
     "data": {
      "text/plain": [
       "\"Queen's Park\""
      ]
     },
     "execution_count": 4,
     "metadata": {},
     "output_type": "execute_result"
    }
   ],
   "source": [
    "# define a function to deal with 'Not assigned' values of the Neighbourhood column\n",
    "def fill_missing(input):\n",
    "    bor, neigh = input\n",
    "    if neigh == 'Not assigned':\n",
    "        neigh = bor\n",
    "    else:\n",
    "        neigh\n",
    "    return neigh\n",
    "\n",
    "fill_missing(df.iloc[85,1:])"
   ]
  },
  {
   "cell_type": "code",
   "execution_count": 5,
   "metadata": {},
   "outputs": [],
   "source": [
    "df['Neighbourhood'] = df[['Borough','Neighbourhood']].apply(fill_missing, axis = 1)"
   ]
  },
  {
   "cell_type": "code",
   "execution_count": 6,
   "metadata": {},
   "outputs": [
    {
     "data": {
      "text/html": [
       "<div>\n",
       "<style scoped>\n",
       "    .dataframe tbody tr th:only-of-type {\n",
       "        vertical-align: middle;\n",
       "    }\n",
       "\n",
       "    .dataframe tbody tr th {\n",
       "        vertical-align: top;\n",
       "    }\n",
       "\n",
       "    .dataframe thead th {\n",
       "        text-align: right;\n",
       "    }\n",
       "</style>\n",
       "<table border=\"1\" class=\"dataframe\">\n",
       "  <thead>\n",
       "    <tr style=\"text-align: right;\">\n",
       "      <th></th>\n",
       "      <th>Postcode</th>\n",
       "      <th>Borough</th>\n",
       "      <th>Neighbourhood</th>\n",
       "    </tr>\n",
       "  </thead>\n",
       "  <tbody>\n",
       "    <tr>\n",
       "      <th>85</th>\n",
       "      <td>M7A</td>\n",
       "      <td>Queen's Park</td>\n",
       "      <td>Queen's Park</td>\n",
       "    </tr>\n",
       "  </tbody>\n",
       "</table>\n",
       "</div>"
      ],
      "text/plain": [
       "   Postcode       Borough Neighbourhood\n",
       "85      M7A  Queen's Park  Queen's Park"
      ]
     },
     "execution_count": 6,
     "metadata": {},
     "output_type": "execute_result"
    }
   ],
   "source": [
    "df[df['Postcode'] == 'M7A']"
   ]
  },
  {
   "cell_type": "code",
   "execution_count": 7,
   "metadata": {},
   "outputs": [
    {
     "data": {
      "text/plain": [
       "(103, 3)"
      ]
     },
     "execution_count": 7,
     "metadata": {},
     "output_type": "execute_result"
    }
   ],
   "source": [
    "#shape of the final df.\n",
    "df.shape"
   ]
  }
 ],
 "metadata": {
  "kernelspec": {
   "display_name": "Python 3",
   "language": "python",
   "name": "python3"
  },
  "language_info": {
   "codemirror_mode": {
    "name": "ipython",
    "version": 3
   },
   "file_extension": ".py",
   "mimetype": "text/x-python",
   "name": "python",
   "nbconvert_exporter": "python",
   "pygments_lexer": "ipython3",
   "version": "3.7.3"
  }
 },
 "nbformat": 4,
 "nbformat_minor": 2
}
